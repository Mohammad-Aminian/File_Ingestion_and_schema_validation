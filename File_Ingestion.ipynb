{
 "cells": [
  {
   "cell_type": "code",
   "execution_count": 19,
   "metadata": {},
   "outputs": [],
   "source": [
    "import os \n",
    "import time"
   ]
  },
  {
   "cell_type": "code",
   "execution_count": null,
   "metadata": {},
   "outputs": [],
   "source": [
    "import pandas as pd\n",
    "start = time.time()\n",
    "df = pd.read_csv('/media/elliot/HDD/r1/custom_1988_2020.csv')\n",
    "end = time.time()\n",
    "print(\" pandas read time: \",(end-start),\"sec\")"
   ]
  },
  {
   "cell_type": "code",
   "execution_count": 1,
   "metadata": {},
   "outputs": [
    {
     "data": {
      "text/plain": [
       "'pandas couldnt read it'"
      ]
     },
     "execution_count": 1,
     "metadata": {},
     "output_type": "execute_result"
    }
   ],
   "source": [
    "'''pandas couldnt read it'''"
   ]
  },
  {
   "cell_type": "code",
   "execution_count": null,
   "metadata": {},
   "outputs": [],
   "source": []
  },
  {
   "cell_type": "code",
   "execution_count": null,
   "metadata": {},
   "outputs": [],
   "source": []
  },
  {
   "cell_type": "code",
   "execution_count": 3,
   "metadata": {},
   "outputs": [
    {
     "name": "stdout",
     "output_type": "stream",
     "text": [
      " dask read time is:  0.4192380905151367 sec\n"
     ]
    }
   ],
   "source": [
    "from dask import dataframe as dd\n",
    "start = time.time()\n",
    "dask_df = dd.read_csv('/media/elliot/HDD/r1/custom_1988_2020.csv')\n",
    "end = time.time()\n",
    "print(\" dask read time is: \",(end-start),\"sec\")"
   ]
  },
  {
   "cell_type": "code",
   "execution_count": 3,
   "metadata": {},
   "outputs": [
    {
     "name": "stderr",
     "output_type": "stream",
     "text": [
      "2021-10-25 17:13:13,626\tINFO services.py:1253 -- View the Ray dashboard at \u001b[1m\u001b[32mhttp://127.0.0.1:8265\u001b[39m\u001b[22m\n",
      "2021-10-25 17:14:17,988\tWARNING worker.py:1227 -- A worker died or was killed while executing a task by an unexpected system error. To troubleshoot the problem, check the logs for the dead worker. RayTask ID: 8eaddd937ecbffb5fe3bdfbf6daad89bc04f041f3670dc1c Worker ID: c77423566eee0fdc9aee5f190257c69a74fde8657682d1f0b4bc06c6 Node ID: 5c0527aa2d56ace10d34ad4e7db4fa8b4ed5fe004bffa4970a0aa23f Worker IP address: 10.85.0.6 Worker port: 45439 Worker PID: 19602\n",
      "2021-10-25 17:14:18,000\tWARNING worker.py:1227 -- 3 retries left for task 480a853c2c4c6f27ffffffffffffffffffffffff01000000, attempting to resubmit.\n",
      "2021-10-25 17:14:21,554\tWARNING worker.py:1227 -- A worker died or was killed while executing a task by an unexpected system error. To troubleshoot the problem, check the logs for the dead worker. RayTask ID: 0e0601ba9de85fc29dc97a1d2548717767612c52a409d763 Worker ID: 34c5781b441e8ddab5aea78dea5d5b02862368ff9f6e594b702f6861 Node ID: 5c0527aa2d56ace10d34ad4e7db4fa8b4ed5fe004bffa4970a0aa23f Worker IP address: 10.85.0.6 Worker port: 37511 Worker PID: 19601\n",
      "2021-10-25 17:14:21,562\tWARNING worker.py:1227 -- 3 retries left for task 402ddcfdf56ca87affffffffffffffffffffffff01000000, attempting to resubmit.\n",
      "2021-10-25 17:14:24,915\tWARNING worker.py:1227 -- A worker died or was killed while executing a task by an unexpected system error. To troubleshoot the problem, check the logs for the dead worker. RayTask ID: bbcaa4d6eed816ad12cdf0f598c64c8c1119e6834d18ecc8 Worker ID: 154dafd413bbaf37bebef875d877a2f6bd07646fb47786500c5daaea Node ID: 5c0527aa2d56ace10d34ad4e7db4fa8b4ed5fe004bffa4970a0aa23f Worker IP address: 10.85.0.6 Worker port: 35455 Worker PID: 19604\n",
      "2021-10-25 17:14:24,926\tWARNING worker.py:1227 -- 3 retries left for task 32cccd03c567a254ffffffffffffffffffffffff01000000, attempting to resubmit.\n"
     ]
    },
    {
     "name": "stdout",
     "output_type": "stream",
     "text": [
      "modin and ray time is:  94.18200945854187 sec\n"
     ]
    }
   ],
   "source": [
    "import modin.pandas as pd\n",
    "import ray\n",
    "ray.shutdown()\n",
    "ray.init()\n",
    "start = time.time()\n",
    "df = pd.read_csv('/media/elliot/HDD/r1/custom_1988_2020.csv')\n",
    "end = time.time()\n",
    "print(\"modin and ray time is: \",(end-start),\"sec\")\n"
   ]
  },
  {
   "cell_type": "code",
   "execution_count": 4,
   "metadata": {},
   "outputs": [
    {
     "name": "stdout",
     "output_type": "stream",
     "text": [
      "Collecting modin\n",
      "  Using cached modin-0.11.2-py3-none-manylinux1_x86_64.whl (731 kB)\n",
      "Requirement already satisfied: numpy>=1.16.5 in /usr/lib/python3/dist-packages (from modin) (1.17.4)\n",
      "Collecting pandas==1.3.4\n",
      "  Downloading pandas-1.3.4-cp38-cp38-manylinux_2_17_x86_64.manylinux2014_x86_64.whl (11.5 MB)\n",
      "\u001b[K     |████████████████████████████████| 11.5 MB 4.5 MB/s eta 0:00:01\n",
      "\u001b[?25hCollecting packaging\n",
      "  Using cached packaging-21.0-py3-none-any.whl (40 kB)\n",
      "Requirement already satisfied: pytz>=2017.3 in /usr/lib/python3/dist-packages (from pandas==1.3.4->modin) (2019.3)\n",
      "Requirement already satisfied: python-dateutil>=2.7.3 in /usr/lib/python3/dist-packages (from pandas==1.3.4->modin) (2.7.3)\n",
      "Requirement already satisfied: pyparsing>=2.0.2 in ./.local/lib/python3.8/site-packages (from packaging->modin) (2.4.7)\n",
      "Installing collected packages: pandas, packaging, modin\n",
      "  Attempting uninstall: pandas\n",
      "    Found existing installation: pandas 1.1.4\n",
      "    Uninstalling pandas-1.1.4:\n",
      "      Successfully uninstalled pandas-1.1.4\n",
      "Successfully installed modin-0.11.2 packaging-21.0 pandas-1.3.4\n",
      "Note: you may need to restart the kernel to use updated packages.\n"
     ]
    }
   ],
   "source": [
    "pip install modin"
   ]
  },
  {
   "cell_type": "code",
   "execution_count": 7,
   "metadata": {},
   "outputs": [
    {
     "name": "stdout",
     "output_type": "stream",
     "text": [
      "Requirement already satisfied: modin[ray] in ./.local/lib/python3.8/site-packages (0.11.2)\n",
      "Requirement already satisfied: packaging in ./.local/lib/python3.8/site-packages (from modin[ray]) (21.0)\n",
      "Requirement already satisfied: pandas==1.3.4 in ./.local/lib/python3.8/site-packages (from modin[ray]) (1.3.4)\n",
      "Requirement already satisfied: numpy>=1.16.5 in /usr/lib/python3/dist-packages (from modin[ray]) (1.17.4)\n",
      "Collecting ray[default]>=1.4.0; extra == \"ray\"\n",
      "  Using cached ray-1.7.1-cp38-cp38-manylinux2014_x86_64.whl (53.7 MB)\n",
      "Collecting pyarrow>=1.0; extra == \"ray\"\n",
      "  Using cached pyarrow-5.0.0-cp38-cp38-manylinux2014_x86_64.whl (23.6 MB)\n",
      "Requirement already satisfied: pyparsing>=2.0.2 in ./.local/lib/python3.8/site-packages (from packaging->modin[ray]) (2.4.7)\n",
      "Requirement already satisfied: python-dateutil>=2.7.3 in /usr/lib/python3/dist-packages (from pandas==1.3.4->modin[ray]) (2.7.3)\n",
      "Requirement already satisfied: pytz>=2017.3 in /usr/lib/python3/dist-packages (from pandas==1.3.4->modin[ray]) (2019.3)\n",
      "Requirement already satisfied: pyyaml in /usr/lib/python3/dist-packages (from ray[default]>=1.4.0; extra == \"ray\"->modin[ray]) (5.3.1)\n",
      "Collecting protobuf>=3.15.3\n",
      "  Using cached protobuf-3.19.0-cp38-cp38-manylinux_2_17_x86_64.manylinux2014_x86_64.whl (1.1 MB)\n",
      "Collecting grpcio>=1.28.1\n",
      "  Using cached grpcio-1.41.0-cp38-cp38-manylinux_2_17_x86_64.manylinux2014_x86_64.whl (3.9 MB)\n",
      "Collecting msgpack<2.0.0,>=1.0.0\n",
      "  Using cached msgpack-1.0.2-cp38-cp38-manylinux1_x86_64.whl (302 kB)\n",
      "Collecting filelock\n",
      "  Using cached filelock-3.3.1-py3-none-any.whl (9.7 kB)\n",
      "Requirement already satisfied: click>=7.0 in ./.local/lib/python3.8/site-packages (from ray[default]>=1.4.0; extra == \"ray\"->modin[ray]) (8.0.3)\n",
      "Requirement already satisfied: attrs in ./.local/lib/python3.8/site-packages (from ray[default]>=1.4.0; extra == \"ray\"->modin[ray]) (20.2.0)\n",
      "Collecting redis>=3.5.0\n",
      "  Using cached redis-3.5.3-py2.py3-none-any.whl (72 kB)\n",
      "Requirement already satisfied: requests; extra == \"default\" in /usr/lib/python3/dist-packages (from ray[default]>=1.4.0; extra == \"ray\"->modin[ray]) (2.22.0)\n",
      "Collecting colorful; extra == \"default\"\n",
      "  Using cached colorful-0.5.4-py2.py3-none-any.whl (201 kB)\n",
      "Collecting gpustat>=1.0.0b1; extra == \"default\"\n",
      "  Using cached gpustat-1.0.0b1.tar.gz (82 kB)\n",
      "Collecting jsonschema; extra == \"default\"\n",
      "  Using cached jsonschema-4.1.2-py3-none-any.whl (69 kB)\n",
      "Collecting py-spy>=0.2.0; extra == \"default\"\n",
      "  Using cached py_spy-0.3.10-py2.py3-none-manylinux_2_5_x86_64.manylinux1_x86_64.whl (3.2 MB)\n",
      "Collecting aiohttp>=3.7; extra == \"default\"\n",
      "  Using cached aiohttp-3.7.4.post0-cp38-cp38-manylinux2014_x86_64.whl (1.5 MB)\n",
      "Collecting aioredis<2; extra == \"default\"\n",
      "  Using cached aioredis-1.3.1-py3-none-any.whl (65 kB)\n",
      "Collecting opencensus; extra == \"default\"\n",
      "  Using cached opencensus-0.8.0-py2.py3-none-any.whl (128 kB)\n",
      "Collecting prometheus-client>=0.7.1; extra == \"default\"\n",
      "  Using cached prometheus_client-0.11.0-py2.py3-none-any.whl (56 kB)\n",
      "Collecting aiohttp-cors; extra == \"default\"\n",
      "  Using cached aiohttp_cors-0.7.0-py3-none-any.whl (27 kB)\n",
      "Requirement already satisfied: six>=1.5.2 in /usr/lib/python3/dist-packages (from grpcio>=1.28.1->ray[default]>=1.4.0; extra == \"ray\"->modin[ray]) (1.14.0)\n",
      "Collecting blessed>=1.17.1\n",
      "  Downloading blessed-1.19.0-py2.py3-none-any.whl (57 kB)\n",
      "\u001b[K     |████████████████████████████████| 57 kB 129 kB/s eta 0:00:011\n",
      "\u001b[?25hCollecting nvidia-ml-py3>=7.352.0\n",
      "  Downloading nvidia-ml-py3-7.352.0.tar.gz (19 kB)\n",
      "Collecting psutil\n",
      "  Using cached psutil-5.8.0-cp38-cp38-manylinux2010_x86_64.whl (296 kB)\n",
      "Collecting pyrsistent!=0.17.0,!=0.17.1,!=0.17.2,>=0.14.0\n",
      "  Downloading pyrsistent-0.18.0-cp38-cp38-manylinux1_x86_64.whl (118 kB)\n",
      "\u001b[K     |████████████████████████████████| 118 kB 371 kB/s eta 0:00:01\n",
      "\u001b[?25hCollecting typing-extensions>=3.6.5\n",
      "  Downloading typing_extensions-3.10.0.2-py3-none-any.whl (26 kB)\n",
      "Collecting yarl<2.0,>=1.0\n",
      "  Downloading yarl-1.7.0-cp38-cp38-manylinux_2_5_x86_64.manylinux1_x86_64.manylinux_2_12_x86_64.manylinux2010_x86_64.whl (308 kB)\n",
      "\u001b[K     |████████████████████████████████| 308 kB 3.2 MB/s eta 0:00:01\n",
      "\u001b[?25hCollecting async-timeout<4.0,>=3.0\n",
      "  Downloading async_timeout-3.0.1-py3-none-any.whl (8.2 kB)\n",
      "Collecting multidict<7.0,>=4.5\n",
      "  Downloading multidict-5.2.0-cp38-cp38-manylinux_2_5_x86_64.manylinux1_x86_64.manylinux_2_12_x86_64.manylinux2010_x86_64.whl (187 kB)\n",
      "\u001b[K     |████████████████████████████████| 187 kB 6.3 MB/s eta 0:00:01\n",
      "\u001b[?25hRequirement already satisfied: chardet<5.0,>=2.0 in /usr/lib/python3/dist-packages (from aiohttp>=3.7; extra == \"default\"->ray[default]>=1.4.0; extra == \"ray\"->modin[ray]) (3.0.4)\n",
      "Collecting hiredis\n",
      "  Downloading hiredis-2.0.0-cp38-cp38-manylinux2010_x86_64.whl (85 kB)\n",
      "\u001b[K     |████████████████████████████████| 85 kB 3.7 MB/s eta 0:00:011\n",
      "\u001b[?25hCollecting opencensus-context==0.1.2\n",
      "  Downloading opencensus_context-0.1.2-py2.py3-none-any.whl (4.4 kB)\n",
      "Collecting google-api-core<3.0.0,>=1.0.0; python_version >= \"3.6\"\n",
      "  Downloading google_api_core-2.1.1-py2.py3-none-any.whl (95 kB)\n",
      "\u001b[K     |████████████████████████████████| 95 kB 3.6 MB/s eta 0:00:011\n",
      "\u001b[?25hRequirement already satisfied: wcwidth>=0.1.4 in ./.local/lib/python3.8/site-packages (from blessed>=1.17.1->gpustat>=1.0.0b1; extra == \"default\"->ray[default]>=1.4.0; extra == \"ray\"->modin[ray]) (0.2.5)\n",
      "Requirement already satisfied: idna>=2.0 in /usr/lib/python3/dist-packages (from yarl<2.0,>=1.0->aiohttp>=3.7; extra == \"default\"->ray[default]>=1.4.0; extra == \"ray\"->modin[ray]) (2.8)\n",
      "Requirement already satisfied: setuptools>=40.3.0 in /usr/lib/python3/dist-packages (from google-api-core<3.0.0,>=1.0.0; python_version >= \"3.6\"->opencensus; extra == \"default\"->ray[default]>=1.4.0; extra == \"ray\"->modin[ray]) (45.2.0)\n",
      "Collecting googleapis-common-protos<2.0dev,>=1.6.0\n",
      "  Downloading googleapis_common_protos-1.53.0-py2.py3-none-any.whl (198 kB)\n",
      "\u001b[K     |████████████████████████████████| 198 kB 2.6 MB/s eta 0:00:01\n",
      "\u001b[?25hCollecting google-auth<3.0dev,>=1.25.0\n",
      "  Downloading google_auth-2.3.0-py2.py3-none-any.whl (154 kB)\n",
      "\u001b[K     |████████████████████████████████| 154 kB 1.5 MB/s eta 0:00:01\n",
      "\u001b[?25hCollecting rsa<5,>=3.1.4\n",
      "  Downloading rsa-4.7.2-py3-none-any.whl (34 kB)\n",
      "Collecting cachetools<5.0,>=2.0.0\n",
      "  Downloading cachetools-4.2.4-py3-none-any.whl (10 kB)\n",
      "Requirement already satisfied: pyasn1-modules>=0.2.1 in ./.local/lib/python3.8/site-packages (from google-auth<3.0dev,>=1.25.0->google-api-core<3.0.0,>=1.0.0; python_version >= \"3.6\"->opencensus; extra == \"default\"->ray[default]>=1.4.0; extra == \"ray\"->modin[ray]) (0.2.8)\n",
      "Requirement already satisfied: pyasn1>=0.1.3 in ./.local/lib/python3.8/site-packages (from rsa<5,>=3.1.4->google-auth<3.0dev,>=1.25.0->google-api-core<3.0.0,>=1.0.0; python_version >= \"3.6\"->opencensus; extra == \"default\"->ray[default]>=1.4.0; extra == \"ray\"->modin[ray]) (0.4.8)\n",
      "Building wheels for collected packages: gpustat, nvidia-ml-py3\n",
      "  Building wheel for gpustat (setup.py) ... \u001b[?25ldone\n",
      "\u001b[?25h  Created wheel for gpustat: filename=gpustat-1.0.0b1-py3-none-any.whl size=15979 sha256=0b6ffb95b97fce86f5f5a96e0d7793cb9393309c2c8d1ba52c23c6c6f1360cd6\n",
      "  Stored in directory: /home/elliot/.cache/pip/wheels/80/87/f2/ed4a55705071f3671434e31c704883425b71bbc90b0c0cfa1e\n",
      "  Building wheel for nvidia-ml-py3 (setup.py) ... \u001b[?25ldone\n",
      "\u001b[?25h  Created wheel for nvidia-ml-py3: filename=nvidia_ml_py3-7.352.0-py3-none-any.whl size=19189 sha256=0437936bebc9bd663752667c61a9e033a8f5608be29e6113136cf033273690ff\n",
      "  Stored in directory: /home/elliot/.cache/pip/wheels/b9/b1/68/cb4feab29709d4155310d29a421389665dcab9eb3b679b527b\n",
      "Successfully built gpustat nvidia-ml-py3\n",
      "Installing collected packages: protobuf, grpcio, msgpack, filelock, redis, colorful, blessed, nvidia-ml-py3, psutil, gpustat, pyrsistent, jsonschema, py-spy, typing-extensions, multidict, yarl, async-timeout, aiohttp, hiredis, aioredis, opencensus-context, googleapis-common-protos, rsa, cachetools, google-auth, google-api-core, opencensus, prometheus-client, aiohttp-cors, ray, pyarrow\n",
      "Successfully installed aiohttp-3.7.4.post0 aiohttp-cors-0.7.0 aioredis-1.3.1 async-timeout-3.0.1 blessed-1.19.0 cachetools-4.2.4 colorful-0.5.4 filelock-3.3.1 google-api-core-2.1.1 google-auth-2.3.0 googleapis-common-protos-1.53.0 gpustat-1.0.0b1 grpcio-1.41.0 hiredis-2.0.0 jsonschema-4.1.2 msgpack-1.0.2 multidict-5.2.0 nvidia-ml-py3-7.352.0 opencensus-0.8.0 opencensus-context-0.1.2 prometheus-client-0.11.0 protobuf-3.19.0 psutil-5.8.0 py-spy-0.3.10 pyarrow-5.0.0 pyrsistent-0.18.0 ray-1.7.1 redis-3.5.3 rsa-4.7.2 typing-extensions-3.10.0.2 yarl-1.7.0\n"
     ]
    },
    {
     "name": "stdout",
     "output_type": "stream",
     "text": [
      "Note: you may need to restart the kernel to use updated packages.\n"
     ]
    }
   ],
   "source": [
    "pip install modin[ray]"
   ]
  },
  {
   "cell_type": "code",
   "execution_count": 4,
   "metadata": {},
   "outputs": [
    {
     "name": "stdout",
     "output_type": "stream",
     "text": [
      "Requirement already satisfied: modin[dask] in ./.local/lib/python3.8/site-packages (0.11.2)\n",
      "Requirement already satisfied: numpy>=1.16.5 in /usr/lib/python3/dist-packages (from modin[dask]) (1.17.4)\n",
      "Requirement already satisfied: packaging in ./.local/lib/python3.8/site-packages (from modin[dask]) (21.0)\n",
      "Requirement already satisfied: pandas==1.3.4 in ./.local/lib/python3.8/site-packages (from modin[dask]) (1.3.4)\n",
      "Collecting dask>=2.22.0; extra == \"dask\"\n",
      "  Using cached dask-2021.10.0-py3-none-any.whl (1.0 MB)\n",
      "Collecting distributed>=2.22.0; extra == \"dask\"\n",
      "  Using cached distributed-2021.10.0-py3-none-any.whl (791 kB)\n",
      "Requirement already satisfied: pyparsing>=2.0.2 in ./.local/lib/python3.8/site-packages (from packaging->modin[dask]) (2.4.7)\n",
      "Requirement already satisfied: python-dateutil>=2.7.3 in /usr/lib/python3/dist-packages (from pandas==1.3.4->modin[dask]) (2.7.3)\n",
      "Requirement already satisfied: pytz>=2017.3 in /usr/lib/python3/dist-packages (from pandas==1.3.4->modin[dask]) (2019.3)\n",
      "Requirement already satisfied: pyyaml in /usr/lib/python3/dist-packages (from dask>=2.22.0; extra == \"dask\"->modin[dask]) (5.3.1)\n",
      "Collecting partd>=0.3.10\n",
      "  Downloading partd-1.2.0-py3-none-any.whl (19 kB)\n",
      "Collecting toolz>=0.8.2\n",
      "  Using cached toolz-0.11.1-py3-none-any.whl (55 kB)\n",
      "Collecting cloudpickle>=1.1.1\n",
      "  Using cached cloudpickle-2.0.0-py3-none-any.whl (25 kB)\n",
      "Collecting fsspec>=0.6.0\n",
      "  Downloading fsspec-2021.10.1-py3-none-any.whl (125 kB)\n",
      "\u001b[K     |████████████████████████████████| 125 kB 324 kB/s eta 0:00:01\n",
      "\u001b[?25hRequirement already satisfied: msgpack>=0.6.0 in ./.local/lib/python3.8/site-packages (from distributed>=2.22.0; extra == \"dask\"->modin[dask]) (1.0.2)\n",
      "Requirement already satisfied: setuptools in /usr/lib/python3/dist-packages (from distributed>=2.22.0; extra == \"dask\"->modin[dask]) (45.2.0)\n",
      "Requirement already satisfied: click>=6.6 in ./.local/lib/python3.8/site-packages (from distributed>=2.22.0; extra == \"dask\"->modin[dask]) (8.0.3)\n",
      "Requirement already satisfied: tornado>=6.0.3; python_version >= \"3.8\" in ./.local/lib/python3.8/site-packages (from distributed>=2.22.0; extra == \"dask\"->modin[dask]) (6.0.4)\n",
      "Collecting sortedcontainers!=2.0.0,!=2.0.1\n",
      "  Using cached sortedcontainers-2.4.0-py2.py3-none-any.whl (29 kB)\n",
      "Requirement already satisfied: jinja2 in ./.local/lib/python3.8/site-packages (from distributed>=2.22.0; extra == \"dask\"->modin[dask]) (3.0.2)\n",
      "Requirement already satisfied: psutil>=5.0 in ./.local/lib/python3.8/site-packages (from distributed>=2.22.0; extra == \"dask\"->modin[dask]) (5.8.0)\n",
      "Collecting zict>=0.1.3\n",
      "  Using cached zict-2.0.0-py3-none-any.whl (10 kB)\n",
      "Collecting tblib>=1.6.0\n",
      "  Using cached tblib-1.7.0-py2.py3-none-any.whl (12 kB)\n",
      "Collecting locket\n",
      "  Downloading locket-0.2.1-py2.py3-none-any.whl (4.1 kB)\n",
      "Requirement already satisfied: MarkupSafe>=2.0 in ./.local/lib/python3.8/site-packages (from jinja2->distributed>=2.22.0; extra == \"dask\"->modin[dask]) (2.0.1)\n",
      "Collecting heapdict\n",
      "  Downloading HeapDict-1.0.1-py3-none-any.whl (3.9 kB)\n",
      "Installing collected packages: locket, toolz, partd, cloudpickle, fsspec, dask, sortedcontainers, heapdict, zict, tblib, distributed\n",
      "Successfully installed cloudpickle-2.0.0 dask-2021.10.0 distributed-2021.10.0 fsspec-2021.10.1 heapdict-1.0.1 locket-0.2.1 partd-1.2.0 sortedcontainers-2.4.0 tblib-1.7.0 toolz-0.11.1 zict-2.0.0\n",
      "Note: you may need to restart the kernel to use updated packages.\n"
     ]
    }
   ],
   "source": [
    "pip install modin[dask]"
   ]
  },
  {
   "cell_type": "code",
   "execution_count": 6,
   "metadata": {},
   "outputs": [
    {
     "data": {
      "text/plain": [
       "'Results:dask computation time is very low'"
      ]
     },
     "execution_count": 6,
     "metadata": {},
     "output_type": "execute_result"
    }
   ],
   "source": [
    "'''Results:dask computation time is very low'''"
   ]
  },
  {
   "cell_type": "code",
   "execution_count": 3,
   "metadata": {},
   "outputs": [
    {
     "data": {
      "text/html": [
       "<div><strong>Dask DataFrame Structure:</strong></div>\n",
       "<div>\n",
       "<style scoped>\n",
       "    .dataframe tbody tr th:only-of-type {\n",
       "        vertical-align: middle;\n",
       "    }\n",
       "\n",
       "    .dataframe tbody tr th {\n",
       "        vertical-align: top;\n",
       "    }\n",
       "\n",
       "    .dataframe thead th {\n",
       "        text-align: right;\n",
       "    }\n",
       "</style>\n",
       "<table border=\"1\" class=\"dataframe\">\n",
       "  <thead>\n",
       "    <tr style=\"text-align: right;\">\n",
       "      <th></th>\n",
       "      <th>198801</th>\n",
       "      <th>1</th>\n",
       "      <th>103</th>\n",
       "      <th>100</th>\n",
       "      <th>000000190</th>\n",
       "      <th>0</th>\n",
       "      <th>35843</th>\n",
       "      <th>34353</th>\n",
       "    </tr>\n",
       "    <tr>\n",
       "      <th>npartitions=72</th>\n",
       "      <th></th>\n",
       "      <th></th>\n",
       "      <th></th>\n",
       "      <th></th>\n",
       "      <th></th>\n",
       "      <th></th>\n",
       "      <th></th>\n",
       "      <th></th>\n",
       "    </tr>\n",
       "  </thead>\n",
       "  <tbody>\n",
       "    <tr>\n",
       "      <th></th>\n",
       "      <td>int64</td>\n",
       "      <td>int64</td>\n",
       "      <td>int64</td>\n",
       "      <td>int64</td>\n",
       "      <td>int64</td>\n",
       "      <td>int64</td>\n",
       "      <td>int64</td>\n",
       "      <td>int64</td>\n",
       "    </tr>\n",
       "    <tr>\n",
       "      <th></th>\n",
       "      <td>...</td>\n",
       "      <td>...</td>\n",
       "      <td>...</td>\n",
       "      <td>...</td>\n",
       "      <td>...</td>\n",
       "      <td>...</td>\n",
       "      <td>...</td>\n",
       "      <td>...</td>\n",
       "    </tr>\n",
       "    <tr>\n",
       "      <th>...</th>\n",
       "      <td>...</td>\n",
       "      <td>...</td>\n",
       "      <td>...</td>\n",
       "      <td>...</td>\n",
       "      <td>...</td>\n",
       "      <td>...</td>\n",
       "      <td>...</td>\n",
       "      <td>...</td>\n",
       "    </tr>\n",
       "    <tr>\n",
       "      <th></th>\n",
       "      <td>...</td>\n",
       "      <td>...</td>\n",
       "      <td>...</td>\n",
       "      <td>...</td>\n",
       "      <td>...</td>\n",
       "      <td>...</td>\n",
       "      <td>...</td>\n",
       "      <td>...</td>\n",
       "    </tr>\n",
       "    <tr>\n",
       "      <th></th>\n",
       "      <td>...</td>\n",
       "      <td>...</td>\n",
       "      <td>...</td>\n",
       "      <td>...</td>\n",
       "      <td>...</td>\n",
       "      <td>...</td>\n",
       "      <td>...</td>\n",
       "      <td>...</td>\n",
       "    </tr>\n",
       "  </tbody>\n",
       "</table>\n",
       "</div>\n",
       "<div>Dask Name: read-csv, 72 tasks</div>"
      ],
      "text/plain": [
       "Dask DataFrame Structure:\n",
       "               198801      1    103    100 000000190      0  35843  34353\n",
       "npartitions=72                                                           \n",
       "                int64  int64  int64  int64     int64  int64  int64  int64\n",
       "                  ...    ...    ...    ...       ...    ...    ...    ...\n",
       "...               ...    ...    ...    ...       ...    ...    ...    ...\n",
       "                  ...    ...    ...    ...       ...    ...    ...    ...\n",
       "                  ...    ...    ...    ...       ...    ...    ...    ...\n",
       "Dask Name: read-csv, 72 tasks"
      ]
     },
     "execution_count": 3,
     "metadata": {},
     "output_type": "execute_result"
    }
   ],
   "source": [
    "dask_df"
   ]
  },
  {
   "cell_type": "code",
   "execution_count": null,
   "metadata": {},
   "outputs": [],
   "source": []
  },
  {
   "cell_type": "code",
   "execution_count": 6,
   "metadata": {},
   "outputs": [],
   "source": [
    "dask_df.columns=dask_df.columns.str.replace('@','')"
   ]
  },
  {
   "cell_type": "code",
   "execution_count": 7,
   "metadata": {},
   "outputs": [],
   "source": [
    "dask_df.columns = dask_df.columns.str.replace(' ', '')"
   ]
  },
  {
   "cell_type": "code",
   "execution_count": 4,
   "metadata": {},
   "outputs": [],
   "source": [
    "import logging\n",
    "import os\n",
    "import subprocess\n",
    "import yaml\n",
    "import pandas as pd\n",
    "import datetime \n",
    "import gc\n",
    "import re\n",
    "\n"
   ]
  },
  {
   "cell_type": "code",
   "execution_count": 5,
   "metadata": {},
   "outputs": [
    {
     "name": "stdout",
     "output_type": "stream",
     "text": [
      "Overwriting utility.py\n"
     ]
    }
   ],
   "source": [
    "%%writefile utility.py\n",
    "\n",
    "def read_config_file(filepath):\n",
    "    with open(filepath, 'r') as stream:\n",
    "        try:\n",
    "            return yaml.load(stream, Loader=yaml.Loader)\n",
    "        except yaml.YAMLError as exc:\n",
    "            logging.error(exc)\n",
    "\n",
    "def col_header_val(df,table_config):\n",
    "    df.columns = df.columns.str.lower()\n",
    "    df.columns = df.columns.str.replace('[^\\w]','_',regex=True)\n",
    "    df.columns = list(map(lambda x: x.strip('_'), list(df.columns)))\n",
    "    df.columns = list(map(lambda x: replacer(x,'_'), list(df.columns)))\n",
    "    expected_col = list(map(lambda x: x.lower(),  table_config['columns']))\n",
    "    expected_col.sort()\n",
    "    df.columns =list(map(lambda x: x.lower(), list(df.columns)))\n",
    "    df = df.reindex(sorted(df.columns), axis=1)\n",
    "    if len(df.columns) == len(expected_col) and list(expected_col)  == list(df.columns):\n",
    "        print(\"column name and column length validation passed\")\n",
    "        return 1\n",
    "    else:\n",
    "        print(\"column name and column length validation failed\")\n",
    "        mismatched_columns_file = list(set(df.columns).difference(expected_col))\n",
    "        print(\"Following File columns are not in the YAML file\",mismatched_columns_file)\n",
    "        missing_YAML_file = list(set(expected_col).difference(df.columns))\n",
    "        print(\"Following YAML columns are not in the file uploaded\",missing_YAML_file)\n",
    "        logging.info(f'df columns: {df.columns}')\n",
    "        logging.info(f'expected columns: {expected_col}')\n",
    "        return 0"
   ]
  },
  {
   "cell_type": "code",
   "execution_count": 6,
   "metadata": {},
   "outputs": [
    {
     "data": {
      "text/plain": [
       "Index(['198801', '1', '103', '100', '000000190', '0', '35843', '34353'], dtype='object')"
      ]
     },
     "execution_count": 6,
     "metadata": {},
     "output_type": "execute_result"
    }
   ],
   "source": [
    "cols = dask_df.columns\n",
    "cols"
   ]
  },
  {
   "cell_type": "code",
   "execution_count": 7,
   "metadata": {},
   "outputs": [
    {
     "name": "stdout",
     "output_type": "stream",
     "text": [
      "Overwriting store.yaml\n"
     ]
    }
   ],
   "source": [
    "%%writefile store.yaml\n",
    "file_type: csv\n",
    "dataset_name: file\n",
    "file_name: Rate\n",
    "table_name: edsurv\n",
    "inbound_delimiter: \",\"\n",
    "outbound_delimiter: \"|\"\n",
    "skip_leading_rows: 1\n",
    "columns: \n",
    "    - 198801\n",
    "      - 1\n",
    "      - 103\n",
    "      - 100\n",
    "      - 000000190\n",
    "      - 0\n",
    "      - 35843\n",
    "      - 34353\n"
   ]
  },
  {
   "cell_type": "code",
   "execution_count": null,
   "metadata": {},
   "outputs": [],
   "source": []
  },
  {
   "cell_type": "code",
   "execution_count": 24,
   "metadata": {},
   "outputs": [
    {
     "name": "stdout",
     "output_type": "stream",
     "text": [
      "{'file_type': 'csv', 'dataset_name': 'file', 'file_name': 'Rate', 'table_name': 'edsurv', 'inbound_delimiter': ',', 'outbound_delimiter': '|', 'skip_leading_rows': 1, 'columns': ['198801 - 1 - 103 - 100 - 000000190 - 0 - 35843 - 34353']}\n"
     ]
    }
   ],
   "source": [
    "import yaml\n",
    "\n",
    "with open(\"store.yaml\", \"r\") as stream:\n",
    "    try:\n",
    "        print(yaml.safe_load(stream))\n",
    "    except yaml.YAMLError as exc:\n",
    "        print(exc)"
   ]
  },
  {
   "cell_type": "code",
   "execution_count": 9,
   "metadata": {},
   "outputs": [
    {
     "name": "stdout",
     "output_type": "stream",
     "text": [
      "Requirement already satisfied: pyyaml in /usr/lib/python3/dist-packages (5.3.1)\n",
      "Note: you may need to restart the kernel to use updated packages.\n"
     ]
    }
   ],
   "source": [
    "pip install pyyaml"
   ]
  },
  {
   "cell_type": "code",
   "execution_count": 14,
   "metadata": {},
   "outputs": [
    {
     "name": "stdout",
     "output_type": "stream",
     "text": [
      "Requirement already satisfied: pyyaml in /usr/lib/python3/dist-packages (5.3.1)\n",
      "Note: you may need to restart the kernel to use updated packages.\n"
     ]
    }
   ],
   "source": [
    "pip install pyyaml"
   ]
  },
  {
   "cell_type": "code",
   "execution_count": 18,
   "metadata": {},
   "outputs": [
    {
     "data": {
      "text/plain": [
       "<module 'yaml' from '/usr/lib/python3/dist-packages/yaml/__init__.py'>"
      ]
     },
     "execution_count": 18,
     "metadata": {},
     "output_type": "execute_result"
    }
   ],
   "source": [
    "yaml"
   ]
  },
  {
   "cell_type": "code",
   "execution_count": 20,
   "metadata": {},
   "outputs": [
    {
     "name": "stdout",
     "output_type": "stream",
     "text": [
      "4544707885\n"
     ]
    },
    {
     "data": {
      "text/plain": [
       "'4.5GB'"
      ]
     },
     "execution_count": 20,
     "metadata": {},
     "output_type": "execute_result"
    }
   ],
   "source": [
    "import os \n",
    "import time\n",
    "\n",
    "print(os.path.getsize('/media/elliot/HDD/r1/custom_1988_2020.csv'))\n",
    "'''4.5GB'''"
   ]
  },
  {
   "cell_type": "code",
   "execution_count": 21,
   "metadata": {},
   "outputs": [
    {
     "name": "stdout",
     "output_type": "stream",
     "text": [
      "113607321\n"
     ]
    },
    {
     "data": {
      "text/plain": [
       "8"
      ]
     },
     "execution_count": 21,
     "metadata": {},
     "output_type": "execute_result"
    }
   ],
   "source": [
    "print(len(dask_df.index))\n",
    "len(dask_df.columns)"
   ]
  }
 ],
 "metadata": {
  "kernelspec": {
   "display_name": "Python 3",
   "language": "python",
   "name": "python3"
  },
  "language_info": {
   "codemirror_mode": {
    "name": "ipython",
    "version": 3
   },
   "file_extension": ".py",
   "mimetype": "text/x-python",
   "name": "python",
   "nbconvert_exporter": "python",
   "pygments_lexer": "ipython3",
   "version": "3.8.10"
  }
 },
 "nbformat": 4,
 "nbformat_minor": 2
}
